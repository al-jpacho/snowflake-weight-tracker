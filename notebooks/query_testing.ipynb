{
 "cells": [
  {
   "cell_type": "markdown",
   "metadata": {},
   "source": [
    "# Query Testing\n",
    "- Notebook to test queries from database"
   ]
  },
  {
   "cell_type": "code",
   "execution_count": 21,
   "metadata": {},
   "outputs": [],
   "source": [
    "import os\n",
    "import pandas as pd\n",
    "import snowflake.connector\n",
    "from dotenv import load_dotenv\n",
    "\n",
    "load_dotenv()\n",
    "\n",
    "# Setup Snowflake connection\n",
    "conn = snowflake.connector.connect(\n",
    "    user=os.getenv(\"SNOWFLAKE_USER\"),\n",
    "    password=os.getenv(\"SNOWFLAKE_PASSWORD\"),\n",
    "    account=os.getenv(\"SNOWFLAKE_ACCOUNT\"),\n",
    "    warehouse=os.getenv(\"SNOWFLAKE_WAREHOUSE\"),\n",
    "    database=os.getenv(\"SNOWFLAKE_DATABASE\"),\n",
    "    schema=os.getenv(\"SNOWFLAKE_SCHEMA\") # RAW schema\n",
    ")\n",
    "\n",
    "# Helper function to run a query and return a DataFrame\n",
    "def run_query(query: str) -> pd.DataFrame:\n",
    "    with conn.cursor() as cursor:\n",
    "        cursor.execute(query)\n",
    "        df = cursor.fetch_pandas_all()\n",
    "    return df"
   ]
  },
  {
   "cell_type": "code",
   "execution_count": null,
   "metadata": {},
   "outputs": [],
   "source": [
    "weight_logs_raw_query = \"\"\"\n",
    "select * \n",
    "from weight_db.raw.weight_logs_raw\n",
    "order by date desc\n",
    "limit 20\n",
    "\"\"\"\n",
    "\n",
    "run_query(weight_logs_raw_query)\n"
   ]
  },
  {
   "cell_type": "code",
   "execution_count": null,
   "metadata": {},
   "outputs": [],
   "source": [
    "int_weight_logs_query = \"\"\"\n",
    "select week_start_date, count(distinct id) as count_weigh_ins\n",
    "from weight_db.raw.int_weight_logs\n",
    "group by 1\n",
    "order by 1 desc\n",
    "\"\"\"\n",
    "\n",
    "run_query(int_weight_logs_query)\n"
   ]
  },
  {
   "cell_type": "code",
   "execution_count": null,
   "metadata": {},
   "outputs": [],
   "source": [
    "marts_agg = \"\"\"\n",
    "select *\n",
    "from weight_db.raw.agg_weight_trends\n",
    "\"\"\"\n",
    "\n",
    "run_query(marts_agg)\n"
   ]
  }
 ],
 "metadata": {
  "kernelspec": {
   "display_name": ".venv",
   "language": "python",
   "name": "python3"
  },
  "language_info": {
   "codemirror_mode": {
    "name": "ipython",
    "version": 3
   },
   "file_extension": ".py",
   "mimetype": "text/x-python",
   "name": "python",
   "nbconvert_exporter": "python",
   "pygments_lexer": "ipython3",
   "version": "3.13.2"
  }
 },
 "nbformat": 4,
 "nbformat_minor": 2
}
