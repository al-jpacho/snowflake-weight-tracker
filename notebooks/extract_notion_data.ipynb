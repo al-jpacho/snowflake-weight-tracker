{
 "cells": [
  {
   "cell_type": "code",
   "execution_count": 1,
   "metadata": {},
   "outputs": [],
   "source": [
    "from notion_client import Client\n",
    "import os \n",
    "import pandas as pd\n",
    "\n",
    "NOTION = Client(auth=os.environ[\"NOTION_TOKEN\"])\n",
    "database_id = os.environ[\"NOTION_DATABASE_ID\"]"
   ]
  },
  {
   "cell_type": "code",
   "execution_count": 2,
   "metadata": {},
   "outputs": [],
   "source": [
    "def query_notion_database(database_id):\n",
    "    results = []\n",
    "    has_more = True\n",
    "    start_cursor = None\n",
    "\n",
    "    while has_more:\n",
    "        response = NOTION.databases.query(\n",
    "            database_id=database_id,\n",
    "            start_cursor=start_cursor\n",
    "        )\n",
    "        results.extend(response[\"results\"])\n",
    "        has_more = response.get(\"has_more\", False)\n",
    "        start_cursor = response.get(\"next_cursor\", None)\n",
    "\n",
    "    return results"
   ]
  },
  {
   "cell_type": "code",
   "execution_count": 27,
   "metadata": {},
   "outputs": [],
   "source": [
    "def extract_rows(results): \n",
    "    rows = []\n",
    "    for page in results: \n",
    "        props = page[\"properties\"]\n",
    "        row = {\n",
    "            \"id\": page[\"id\"],\n",
    "            \"date\": props.get(\"Date\", {}).get(\"date\", {}).get(\"start\", None),\n",
    "            \"weight\": props.get(\"Weight\", {}).get(\"number\", None),\n",
    "            \"time_of_day\": props.get(\"Time of Day\", {}).get(\"select\", {}).get(\"name\", None),\n",
    "        }\n",
    "        rows.append(row)\n",
    "\n",
    "    return pd.DataFrame(rows)"
   ]
  },
  {
   "cell_type": "code",
   "execution_count": 74,
   "metadata": {},
   "outputs": [],
   "source": [
    "weight_results = query_notion_database(database_id)\n",
    "weight_df = extract_rows(weight_results)"
   ]
  },
  {
   "cell_type": "code",
   "execution_count": null,
   "metadata": {},
   "outputs": [],
   "source": [
    "weight_results"
   ]
  },
  {
   "cell_type": "code",
   "execution_count": null,
   "metadata": {},
   "outputs": [],
   "source": [
    "weight_df"
   ]
  },
  {
   "cell_type": "code",
   "execution_count": null,
   "metadata": {},
   "outputs": [],
   "source": [
    "weight_df.columns"
   ]
  },
  {
   "cell_type": "code",
   "execution_count": null,
   "metadata": {},
   "outputs": [],
   "source": [
    "import matplotlib.pyplot as plt\n",
    "\n",
    "# Convert 'created_time' to datetime and extract the date\n",
    "weight_df['date'] = pd.to_datetime(weight_df['date'])\n",
    "# weight_df['day'] = weight_df['date'].dt.date\n",
    "\n",
    "# Group by day and calculate the average weight\n",
    "daily_avg_weight = weight_df.groupby('date')['weight'].mean()\n",
    "\n",
    "# Plot the line chart\n",
    "plt.figure(figsize=(10, 6))\n",
    "plt.plot(daily_avg_weight.index, daily_avg_weight.values, marker='o', linestyle='-', color='b')\n",
    "plt.ylim(70, 85)\n",
    "plt.xlabel('date')\n",
    "plt.ylabel('Weight (kg)')\n",
    "plt.title('Average Weight by Day')\n",
    "plt.grid(True)\n",
    "plt.show()"
   ]
  },
  {
   "cell_type": "markdown",
   "metadata": {},
   "source": [
    "### Load Notion data to Snowflake"
   ]
  },
  {
   "cell_type": "code",
   "execution_count": null,
   "metadata": {},
   "outputs": [],
   "source": [
    "weight_df.head()"
   ]
  },
  {
   "cell_type": "code",
   "execution_count": null,
   "metadata": {},
   "outputs": [],
   "source": [
    "weight_df['loaded_at'] = pd.to_datetime('now').isoformat()\n",
    "weight_df['loaded_at'] = weight_df['loaded_at'].astype(str)\n",
    "weight_df.head()"
   ]
  },
  {
   "cell_type": "code",
   "execution_count": null,
   "metadata": {},
   "outputs": [],
   "source": [
    "weight_df['date']  = weight_df['date'].astype(str)\n",
    "weight_df.dtypes"
   ]
  },
  {
   "cell_type": "code",
   "execution_count": 66,
   "metadata": {},
   "outputs": [],
   "source": [
    "import snowflake.connector\n",
    "\n",
    "conn = snowflake.connector.connect(\n",
    "    user=os.getenv(\"SNOWFLAKE_USER\"),\n",
    "    password=os.getenv(\"SNOWFLAKE_PASSWORD\"),\n",
    "    account=os.getenv(\"SNOWFLAKE_ACCOUNT\"),\n",
    "    warehouse=os.getenv(\"SNOWFLAKE_WAREHOUSE\"),\n",
    "    database=os.getenv(\"SNOWFLAKE_DATABASE\"),\n",
    "    schema=os.getenv(\"SNOWFLAKE_SCHEMA\")\n",
    ")\n",
    "\n",
    "cursor = conn.cursor()"
   ]
  },
  {
   "cell_type": "code",
   "execution_count": 86,
   "metadata": {},
   "outputs": [],
   "source": [
    "insert_query = \"\"\"\n",
    "INSERT INTO WEIGHT_DB.RAW.weight_logs_raw (id, date, weight_kg, time_of_day,loaded_at)\n",
    "VALUES (%s, %s, %s, %s, %s)\n",
    "\"\"\""
   ]
  },
  {
   "cell_type": "code",
   "execution_count": null,
   "metadata": {},
   "outputs": [],
   "source": [
    "weight_df.head()"
   ]
  },
  {
   "cell_type": "code",
   "execution_count": null,
   "metadata": {},
   "outputs": [],
   "source": [
    "records = list(weight_df[[\"id\", \"date\", \"weight\", \"time_of_day\", \"loaded_at\"]].itertuples(index=False, name=None))\n",
    "\n",
    "cursor.executemany(insert_query, records)\n",
    "conn.commit()\n",
    "\n",
    "print(f\"{cursor.rowcount} rows inserted.\")\n",
    "\n",
    "\n",
    "cursor.close()\n",
    "conn.close()"
   ]
  }
 ],
 "metadata": {
  "kernelspec": {
   "display_name": ".venv",
   "language": "python",
   "name": "python3"
  },
  "language_info": {
   "codemirror_mode": {
    "name": "ipython",
    "version": 3
   },
   "file_extension": ".py",
   "mimetype": "text/x-python",
   "name": "python",
   "nbconvert_exporter": "python",
   "pygments_lexer": "ipython3",
   "version": "3.13.2"
  }
 },
 "nbformat": 4,
 "nbformat_minor": 2
}
